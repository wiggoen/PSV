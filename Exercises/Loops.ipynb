{
 "cells": [
  {
   "cell_type": "markdown",
   "metadata": {},
   "source": [
    "# Loops\n",
    "\n",
    "Repetitive tasks in a program can be automated by loops.\n",
    "\n",
    "Python has two different loop commands:\n",
    "* while loops\n",
    "* for loops\n",
    "\n",
    "The body of the loops is indented: indentation is Python's way of grouping statements."
   ]
  },
  {
   "cell_type": "markdown",
   "metadata": {},
   "source": [
    "## The while loop\n",
    "The **while** statement is used for repeated execution as long as a condition is true. If the condition is true, the loop executes the statements. If the condition is false, the loop terminates. Any non-zero integer value is true; zero is false. The condition may also be a string or list value, in fact any sequence; anything with a non-zero length is true, empty sequences are false.\n",
    "\n",
    "The syntax for a while loop in Python is\n",
    "```python\n",
    "while condition:\n",
    "    statements\n",
    "```"
   ]
  },
  {
   "cell_type": "markdown",
   "metadata": {},
   "source": [
    "## The for loop\n",
    "The **for** statement is used to iterate over the elements of any sequence (such as a string, list or tuple) or other iterable object, in the order that they appear in the sequence. The sequence list is evaluated once; it should yield an iterable object. An iterator is created for the result of the sequence. The statements is then executed once for each item provided by the iterator, in the order returned by the iterator. When all elements of the sequence is run through, the loop terminates.\n",
    "\n",
    "The syntax for a for loop in Python is\n",
    "```python\n",
    "for elements in sequence:\n",
    "    statements\n",
    "```"
   ]
  },
  {
   "cell_type": "markdown",
   "metadata": {},
   "source": [
    "## Make relevant examples...."
   ]
  },
  {
   "cell_type": "code",
   "execution_count": null,
   "metadata": {},
   "outputs": [],
   "source": []
  },
  {
   "cell_type": "code",
   "execution_count": null,
   "metadata": {},
   "outputs": [],
   "source": []
  },
  {
   "cell_type": "markdown",
   "metadata": {},
   "source": [
    "### Example (remove?)\n",
    "\n",
    "The temperature convertion formula from degrees Celsius $(^{\\circ}C)$ to degrees Fahrenheit $(^{\\circ}F)$ is\n",
    "\n",
    "$$ T(^{\\circ}F) = \\frac{9}{5} T(^{\\circ}C) + 32 $$\n",
    "\n",
    "In stead of copy-pasting code and changing the values for $T(^{\\circ}C)$, we can make a loop that evaluates the temperature in degrees Fahrenheit for a set of degrees Celsius values. With a *while loop* we can execute a set of statements as long as a condition is true. But be aware; it is easy to end up with an infinite loop if the condition don't change from true to false at a point. When the condition becomes false, the loop stops. "
   ]
  },
  {
   "cell_type": "code",
   "execution_count": null,
   "metadata": {},
   "outputs": [],
   "source": []
  },
  {
   "cell_type": "code",
   "execution_count": null,
   "metadata": {},
   "outputs": [],
   "source": []
  },
  {
   "cell_type": "code",
   "execution_count": null,
   "metadata": {},
   "outputs": [],
   "source": []
  },
  {
   "cell_type": "code",
   "execution_count": 5,
   "metadata": {
    "scrolled": true
   },
   "outputs": [
    {
     "name": "stdout",
     "output_type": "stream",
     "text": [
      "-20    -4.0\n",
      "-15    5.0\n",
      "-10    14.0\n",
      "-5    23.0\n",
      "0    32.0\n",
      "5    41.0\n",
      "10    50.0\n",
      "15    59.0\n",
      "20    68.0\n",
      "25    77.0\n",
      "30    86.0\n",
      "35    95.0\n",
      "40    104.0\n"
     ]
    }
   ],
   "source": [
    "# Remove this example?\n",
    "\n",
    "# (HPL 2.1.2) Generate a degrees Celsius to degrees Fahrenheit conversion table\n",
    "C = -20                             # start value for C\n",
    "dC = 5                              # increment of C in loop\n",
    "while C <= 40:                      # loop heading with condition\n",
    "    F = (9/5)*C + 32                # 1st statement inside loop\n",
    "    print(\"{}    {}\".format(C, F))  # 2nd statement inside loop\n",
    "    C = C + dC                      # 3rd statement inside loop"
   ]
  },
  {
   "cell_type": "code",
   "execution_count": null,
   "metadata": {},
   "outputs": [],
   "source": []
  },
  {
   "cell_type": "code",
   "execution_count": null,
   "metadata": {},
   "outputs": [],
   "source": []
  }
 ],
 "metadata": {
  "kernelspec": {
   "display_name": "Python 3",
   "language": "python",
   "name": "python3"
  },
  "language_info": {
   "codemirror_mode": {
    "name": "ipython",
    "version": 3
   },
   "file_extension": ".py",
   "mimetype": "text/x-python",
   "name": "python",
   "nbconvert_exporter": "python",
   "pygments_lexer": "ipython3",
   "version": "3.7.0"
  }
 },
 "nbformat": 4,
 "nbformat_minor": 2
}
