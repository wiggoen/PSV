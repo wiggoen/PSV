{
 "cells": [
  {
   "cell_type": "markdown",
   "metadata": {},
   "source": [
    "# Introduction\n",
    "\n",
    "### UNDER DEVELOPMENT, there might be a lot of changes here\n",
    "\n",
    "* [Python](https://www.python.org)\n",
    "* [Python 3.6 documentation](https://docs.python.org/3.6/)\n",
    "* [Anaconda](https://www.anaconda.com/download/)\n",
    "\n",
    "We recommend installing Anaconda, because it's easy to use and includes the most used packages we need in this course (NumPy/SciPy, Matplotlib, Jupyter Notebook, Seaborn?, Pandas?).  \n",
    "\n",
    "* [NumPy manual](https://docs.scipy.org/doc/numpy-1.15.1/index.html)\n",
    "* [Matplotlib documentation](https://matplotlib.org/contents.html)\n",
    "* [Jupyter Notebook documentation](https://jupyter-notebook.readthedocs.io/en/stable/index.html)\n",
    "\n",
    "The best way of learning programming is by doing. We urge you to write the exercises into a text editor of your choice and run them. \n",
    "\n",
    "### Help pages\n",
    "* [CS Dojo (YouTube channel)](https://www.youtube.com/watch?v=Z1Yd7upQsXY&list=PLBZBJbE_rGRWeh5mIBhD-hhDwSEDxogDg)\n",
    "* [learnpython](https://www.learnpython.org)\n",
    "* [tutorialspoint](https://www.tutorialspoint.com/python/)\n",
    "* [stackoverflow](https://stackoverflow.com)\n",
    "* [w3schools](https://www.w3schools.com/python/default.asp)\n",
    "* [Python tutor](http://www.pythontutor.com/visualize.html#mode=edit)\n"
   ]
  },
  {
   "cell_type": "code",
   "execution_count": null,
   "metadata": {},
   "outputs": [],
   "source": []
  }
 ],
 "metadata": {
  "kernelspec": {
   "display_name": "Python 3",
   "language": "python",
   "name": "python3"
  },
  "language_info": {
   "codemirror_mode": {
    "name": "ipython",
    "version": 3
   },
   "file_extension": ".py",
   "mimetype": "text/x-python",
   "name": "python",
   "nbconvert_exporter": "python",
   "pygments_lexer": "ipython3",
   "version": "3.7.0"
  }
 },
 "nbformat": 4,
 "nbformat_minor": 2
}
